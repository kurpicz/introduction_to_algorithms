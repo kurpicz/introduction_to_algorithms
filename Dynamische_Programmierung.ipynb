{
  "nbformat": 4,
  "nbformat_minor": 0,
  "metadata": {
    "colab": {
      "provenance": []
    },
    "kernelspec": {
      "name": "python3",
      "display_name": "Python 3"
    },
    "language_info": {
      "name": "python"
    }
  },
  "cells": [
    {
      "cell_type": "markdown",
      "source": [
        "# Code-Snippets für das Rod-Cutting-Problem\n",
        "In diesm Notebook finden Sie alle Code-Snippets der Vorlesung zum Thema _dynamische Programmierung_."
      ],
      "metadata": {
        "id": "5RO6BWhomhIS"
      }
    },
    {
      "cell_type": "markdown",
      "source": [
        "## Rekursiver Rod-Cutting-Algorithmus\n",
        "\n",
        "Der folgende Code-Block enthält einen **rekursiven** Algorithmus für das Rod-Cutting-Problem."
      ],
      "metadata": {
        "id": "C09V2b-tazQ6"
      }
    },
    {
      "cell_type": "code",
      "execution_count": null,
      "metadata": {
        "id": "yJhxayuvmfg0"
      },
      "outputs": [],
      "source": [
        "import math\n",
        "\n",
        "def rec_rod_cut(p, n):\n",
        "  if n == 0: # Keine Stange mehr vorhanden\n",
        "    return 0\n",
        "  e = -math.inf # Initialisiere Einnahmen mit -∞\n",
        "  for i in range(1, n+1): # Für jede Länge des ersten Stücks\n",
        "    # Berechne maximale Einnahmen\n",
        "    e = max(e, p[i - 1] + rec_rod_cut(p, n - i))\n",
        "  return e"
      ]
    },
    {
      "cell_type": "markdown",
      "source": [
        "Ausgabe der maximalen Einnahmen für ein paar Problem-Instanzen, die mithilfe des rekursiven Algorithmus berechnet werden. Das Array _p_ enthält an Position _i_ die Preise für Stangen der Länge _i+1_ (das _+1_ ist notwendig, da Array-Indizes in Python mit 0 beginnen)."
      ],
      "metadata": {
        "id": "ZpdQVp9_bNOx"
      }
    },
    {
      "cell_type": "code",
      "source": [
        "# Preise für Stangen der Länge 1,2,...,10\n",
        "p = [1,5,8,9,10,17,17,20,24,30]\n",
        "\n",
        "print(rec_rod_cut(p, 4)) # Maximale Einnahmen für Stange der Länge 4\n",
        "print(rec_rod_cut(p, 10)) # Maximale Einnahmen für Stange der Länge 10\n",
        "print(rec_rod_cut(p, 7)) # Maximale Einnahmen für Stange der Länge 7"
      ],
      "metadata": {
        "colab": {
          "base_uri": "https://localhost:8080/"
        },
        "id": "V2EhllEVm5Pr",
        "outputId": "55643816-a11e-4c79-8548-91898c621c08"
      },
      "execution_count": null,
      "outputs": [
        {
          "output_type": "stream",
          "name": "stdout",
          "text": [
            "10\n",
            "30\n",
            "18\n"
          ]
        }
      ]
    },
    {
      "cell_type": "markdown",
      "source": [
        "## Rod-Cutting-Algorithmus basierend auf dynamische Programmierung\n",
        "\n",
        "Der folgende Code-Block enthält einen Algorithmus für das Rod-Cutting-Problem der auf **dynamischer Programmierung** basiert."
      ],
      "metadata": {
        "id": "cmD3aExvbzu6"
      }
    },
    {
      "cell_type": "code",
      "source": [
        "import math\n",
        "\n",
        "def dp_rod_cut(p, n):\n",
        "  # Speichere die Werte der Teillösungen\n",
        "  es = [0] * (n+1)\n",
        "  # Für jede Länge in 1..n\n",
        "  for j in range(1, n+1):\n",
        "    # Starte ohne Einnahmen\n",
        "    e = -math.inf\n",
        "    # Für jeden möglichen Schnitt\n",
        "    for i in range(1, j+1):\n",
        "      # Berechne maximale Einnahmen\n",
        "      e = max(e, p[i-1] + es[j-i])\n",
        "    es[j] = e;\n",
        "  return es[n]"
      ],
      "metadata": {
        "id": "9IDUeNjo5BwK"
      },
      "execution_count": null,
      "outputs": []
    },
    {
      "cell_type": "markdown",
      "source": [
        "Ausgabe der maximalen Einnahmen für ein paar Problem-Instanzen, die mithilfe des auf dynamischer Programmierung basierenden Algorithmus berechnet werden. Das Array _p_ enthält an Position _i_ die Preise für Stangen der Länge _i+1_ (das _+1_ ist notwendig, da Array-Indizes in Python mit 0 beginnen)."
      ],
      "metadata": {
        "id": "FS95RZfycVwt"
      }
    },
    {
      "cell_type": "code",
      "source": [
        "# Preise für Stangen der Länge 1,2,...,10\n",
        "p = [1,5,8,9,10,17,17,20,24,30]\n",
        "\n",
        "print(dp_rod_cut(p, 4)) # Maximale Einnahmen für Stange der Länge 4\n",
        "print(dp_rod_cut(p, 10)) # Maximale Einnahmen für Stange der Länge 10\n",
        "print(dp_rod_cut(p, 7)) # Maximale Einnahmen für Stange der Länge 7"
      ],
      "metadata": {
        "colab": {
          "base_uri": "https://localhost:8080/"
        },
        "id": "2GoL80Yy6eT9",
        "outputId": "917bf0e7-447c-497f-fae7-9f0df4de70ee"
      },
      "execution_count": null,
      "outputs": [
        {
          "output_type": "stream",
          "name": "stdout",
          "text": [
            "10\n",
            "30\n",
            "18\n"
          ]
        }
      ]
    },
    {
      "cell_type": "markdown",
      "source": [
        "### Lösung ausgeben\n",
        "\n",
        "Der folgende Code-Block erweitert den oben dargestellten Algorithmus um die Ausgabe der Lösung.\n",
        "Es werden die Längen der einzelnen Stücke einer optimalen Lösung ausgegeben."
      ],
      "metadata": {
        "id": "0Rm9F2Tr1qx8"
      }
    },
    {
      "cell_type": "code",
      "source": [
        "import math\n",
        "\n",
        "def dp_rod_cut_solution(p, n):\n",
        "  # Speichere die Werte der Teillösungen\n",
        "  es = [0] * (n+1)\n",
        "  # Speichere die Lösungen\n",
        "  s = [0] * (n+1)\n",
        "  # Für jede Länge in 1..n\n",
        "  for j in range(1, n+1):\n",
        "    # Starte ohne Einnahmen\n",
        "    e = -math.inf\n",
        "    # Für jeden möglichen Schnitt\n",
        "    for i in range (1, j+1):\n",
        "      # Falls Schnitt größere Einnahmen generiert...\n",
        "      if e < p[i-1] + es[j-i]:\n",
        "        # ...speichere neuen Wert der Teillösung...\n",
        "        e = p[i-1] + es[j-i]\n",
        "        # ...und die Länge des ersten Stücks\n",
        "        s[j] = i\n",
        "    es[j] = e\n",
        "  return es[n], s\n",
        "\n",
        "def print_rod_cut_solution(p, n):\n",
        "  e, solutions = dp_rod_cut_solution(p, n)\n",
        "  # So lange noch ein Stück Stange übrig ist\n",
        "  while n > 0:\n",
        "    # Gebe optimale Länge des ersten Stücks aus\n",
        "    print(solutions[n])\n",
        "    # Reduziere Stangenlänge um ausgegebene Länge\n",
        "    n -= solutions[n]\n",
        "  print(\"Finished\")"
      ],
      "metadata": {
        "id": "M89t90r0zQDQ"
      },
      "execution_count": null,
      "outputs": []
    },
    {
      "cell_type": "code",
      "source": [
        "# Preise für Stangen der Länge 1,2,...,10\n",
        "p = [1,5,8,9,10,17,17,20,24,30]\n",
        "\n",
        "print(dp_rod_cut_solution(p, 4)) # Maximale Einnahmen für Stange der Länge 4\n",
        "print(dp_rod_cut_solution(p, 10)) # Maximale Einnahmen für Stange der Länge 10\n",
        "print(dp_rod_cut_solution(p, 7)) # Maximale Einnahmen für Stange der Länge 7\n",
        "\n",
        "print_rod_cut_solution(p, 4)\n",
        "print_rod_cut_solution(p, 10)\n",
        "print_rod_cut_solution(p, 7)"
      ],
      "metadata": {
        "colab": {
          "base_uri": "https://localhost:8080/"
        },
        "id": "87__I_je0sMd",
        "outputId": "08aeafd0-d9ad-4cbb-8361-3f15acafa933"
      },
      "execution_count": null,
      "outputs": [
        {
          "output_type": "stream",
          "name": "stdout",
          "text": [
            "(10, [0, 1, 2, 3, 2])\n",
            "(30, [0, 1, 2, 3, 2, 2, 6, 1, 2, 3, 10])\n",
            "(18, [0, 1, 2, 3, 2, 2, 6, 1])\n",
            "2\n",
            "2\n",
            "Finished\n",
            "10\n",
            "Finished\n",
            "1\n",
            "6\n",
            "Finished\n"
          ]
        }
      ]
    },
    {
      "cell_type": "markdown",
      "source": [
        "## Mögliche Erweiterungen\n",
        "\n",
        "Um sich mit besser mit dem Algorithmus auseinandersetzten können Sie:\n",
        "\n",
        "1. `dp_rod_cut` so erweitern, dass der Algorithmus zusätzlich noch die Lösung ausgibt (und nicht nur den Wert der Lösung).\n",
        "2. die Läufzeiten der Algorithmen messen und einen Problemgröße-Laufzeit-Plot erstellen.\n"
      ],
      "metadata": {
        "id": "Gjedj4N9lINq"
      }
    }
  ]
}